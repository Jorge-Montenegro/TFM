{
 "cells": [
  {
   "cell_type": "code",
   "execution_count": 65,
   "metadata": {},
   "outputs": [],
   "source": [
    "#Streamlit\n",
    "import streamlit as st\n",
    "#Array and Frames Libraries\n",
    "import pandas as pd\n",
    "import numpy as np"
   ]
  },
  {
   "cell_type": "code",
   "execution_count": 67,
   "metadata": {},
   "outputs": [
    {
     "name": "stdout",
     "output_type": "stream",
     "text": [
      "Overwriting visualization.py\n"
     ]
    }
   ],
   "source": [
    "%%writefile visualization.py\n",
    "\n",
    "import streamlit as st\n",
    "import altair as alt\n",
    "from PIL import Image\n",
    "\n",
    "#Starting and Welcome to the App\n",
    "def starting_welcome():\n",
    "    #Read icon\n",
    "    icon = Image.open('./icon.png')\n",
    "    \n",
    "    c1, c2 = st.beta_columns((1,1))\n",
    "    c1.title('Welcome to the Forecast Sale Model')\n",
    "    c2.image(icon)\n",
    "\n",
    "    st.subheader('This project has been defined to estimate the future sales in a specific window time frame and using multiple \\\n",
    "    machine learnings models')\n",
    "\n",
    "    st.markdown('We are trying to resolve a Time Series problem where uncertanty is quite difficult to forecast. However, this would be\\\n",
    "    our starting point')\n",
    "\n",
    "    st.markdown(\n",
    "    \"\"\"    \n",
    "    Steps in order to forecast a Time Series:   \n",
    "    * Select the file to parse. It has to be in *.xlsx format and having these columns\n",
    "        * Date: When the record took place\n",
    "        * Program: This is the type of traffic. It could be empty but the column has to exist\n",
    "        * Visits: This is the number of visitors. It could be empty but the column has to exist\n",
    "        * Revenue: This is the amount of money made that day. In general this the target of our model\n",
    "    \"\"\")\n",
    "\n",
    "\n",
    "def sidebar():\n",
    "\n",
    "    st.sidebar.title(\"Forecast Sale Model\")\n",
    "    st.sidebar.header(\"Please select a file\")\n",
    "    uploaded_file = st.sidebar.file_uploader(\"Select a file .xlsx\", type=\"xlsx\")\n",
    "\n",
    "    return uploaded_file\n",
    "\n",
    "def loading_data(file):\n",
    "    if not file:\n",
    "        st.stop()\n",
    "    elif file:\n",
    "        #Load the main data\n",
    "        data = pd.read_excel(file)\n",
    "\n",
    "\n",
    "starting_welcome()\n",
    "file = sidebar()\n",
    "loading_data(file)\n",
    "\n",
    "\n"
   ]
  }
 ],
 "metadata": {
  "kernelspec": {
   "display_name": "Python 3",
   "language": "python",
   "name": "python3"
  },
  "language_info": {
   "codemirror_mode": {
    "name": "ipython",
    "version": 3
   },
   "file_extension": ".py",
   "mimetype": "text/x-python",
   "name": "python",
   "nbconvert_exporter": "python",
   "pygments_lexer": "ipython3",
   "version": "3.8.5"
  }
 },
 "nbformat": 4,
 "nbformat_minor": 4
}
